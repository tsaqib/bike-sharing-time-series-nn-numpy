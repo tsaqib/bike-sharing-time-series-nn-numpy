{
 "cells": [
  {
   "cell_type": "markdown",
   "metadata": {
    "collapsed": true
   },
   "source": [
    "# Image Classification\n",
    "In this project, we'll classify images from the [CIFAR-10 dataset](https://www.cs.toronto.edu/~kriz/cifar.html).  The dataset consists of airplanes, dogs, cats, and other objects. We'll preprocess the images, then train a convolutional neural network on all the samples. The images need to be normalized and the labels need to be one-hot encoded.  We'll get to apply what you learned and build a convolutional, max pooling, dropout, and fully connected layers.  At the end, we'll get to see your neural network's predictions on the sample images. The code lives [here](https://github.com/tsaqib/ml-playground/tree/master/cnn-tensorflow)."
   ]
  },
  {
   "cell_type": "markdown",
   "metadata": {},
   "source": [
    "## All the import and initializations"
   ]
  },
  {
   "cell_type": "code",
   "execution_count": 1,
   "metadata": {
    "collapsed": true
   },
   "outputs": [],
   "source": [
    "from urllib.request import urlretrieve\n",
    "from os.path import isfile, isdir\n",
    "from tqdm import tqdm\n",
    "import problem_unittests as tests\n",
    "import tarfile\n",
    "import helper\n",
    "import numpy as np\n",
    "from sklearn.preprocessing import LabelBinarizer\n",
    "import pickle\n",
    "import tensorflow as tf\n",
    "import random\n",
    "\n",
    "%matplotlib inline\n",
    "%config InlineBackend.figure_format = 'retina'"
   ]
  },
  {
   "cell_type": "markdown",
   "metadata": {},
   "source": [
    "## Get the Data\n",
    "Let us run the following cell to download the [CIFAR-10 dataset for python](https://www.cs.toronto.edu/~kriz/cifar-10-python.tar.gz)."
   ]
  },
  {
   "cell_type": "code",
   "execution_count": 2,
   "metadata": {},
   "outputs": [
    {
     "name": "stderr",
     "output_type": "stream",
     "text": [
      "CIFAR-10 Dataset: 171MB [00:20, 8.28MB/s]                            \n"
     ]
    },
    {
     "name": "stdout",
     "output_type": "stream",
     "text": [
      "All files found!\n"
     ]
    }
   ],
   "source": [
    "cifar10_dataset_folder_path = 'cifar-10-batches-py'\n",
    "\n",
    "class DLProgress(tqdm):\n",
    "    last_block = 0\n",
    "\n",
    "    def hook(self, block_num=1, block_size=1, total_size=None):\n",
    "        self.total = total_size\n",
    "        self.update((block_num - self.last_block) * block_size)\n",
    "        self.last_block = block_num\n",
    "\n",
    "if not isfile('cifar-10-python.tar.gz'):\n",
    "    with DLProgress(unit='B', unit_scale=True, miniters=1, desc='CIFAR-10 Dataset') as pbar:\n",
    "        urlretrieve(\n",
    "            'https://www.cs.toronto.edu/~kriz/cifar-10-python.tar.gz',\n",
    "            'cifar-10-python.tar.gz',\n",
    "            pbar.hook)\n",
    "\n",
    "if not isdir(cifar10_dataset_folder_path):\n",
    "    with tarfile.open('cifar-10-python.tar.gz') as tar:\n",
    "        tar.extractall()\n",
    "        tar.close()\n",
    "\n",
    "\n",
    "tests.test_folder_path(cifar10_dataset_folder_path)"
   ]
  },
  {
   "cell_type": "markdown",
   "metadata": {},
   "source": [
    "## Explore the Data\n",
    "The dataset is broken into batches to prevent your machine from running out of memory. The CIFAR-10 dataset consists of 5 batches, named `data_batch_1`, `data_batch_2`, etc.. Each batch contains the labels and images that are one of the following:\n",
    "* airplane\n",
    "* automobile\n",
    "* bird\n",
    "* cat\n",
    "* deer\n",
    "* dog\n",
    "* frog\n",
    "* horse\n",
    "* ship\n",
    "* truck\n",
    "\n",
    "Understanding a dataset is part of making predictions on the data. Let us play around with the code cell below by changing the `batch_id` and `sample_id`. The `batch_id` is the id for a batch (1-5). The `sample_id` is the id for a image and label pair in the batch.\n",
    "\n",
    "Let us ask ourselves \"What are all possible labels?\", \"What is the range of values for the image data?\", \"Are the labels in order or random?\".  Answers to questions like these will help us preprocess the data and end up with better predictions."
   ]
  },
  {
   "cell_type": "code",
   "execution_count": 3,
   "metadata": {},
   "outputs": [
    {
     "name": "stdout",
     "output_type": "stream",
     "text": [
      "\n",
      "Stats of batch 1:\n",
      "Samples: 10000\n",
      "Label Counts: {0: 1005, 1: 974, 2: 1032, 3: 1016, 4: 999, 5: 937, 6: 1030, 7: 1001, 8: 1025, 9: 981}\n",
      "First 20 Labels: [6, 9, 9, 4, 1, 1, 2, 7, 8, 3, 4, 7, 7, 2, 9, 9, 9, 3, 2, 6]\n",
      "\n",
      "Example of Image 5:\n",
      "Image - Min Value: 0 Max Value: 252\n",
      "Image - Shape: (32, 32, 3)\n",
      "Label - Label Id: 1 Name: automobile\n"
     ]
    },
    {
     "data": {
      "image/png": "[encoded data removed]",
      "text/plain": [
       "<matplotlib.figure.Figure at 0x10f59ee10>"
      ]
     },
     "metadata": {
      "image/png": {
       "height": 250,
       "width": 253
      }
     },
     "output_type": "display_data"
    }
   ],
   "source": [
    "# Explore the dataset\n",
    "batch_id = 1\n",
    "sample_id = 5\n",
    "helper.display_stats(cifar10_dataset_folder_path, batch_id, sample_id)"
   ]
  },
  {
   "cell_type": "markdown",
   "metadata": {},
   "source": [
    "## Implement Preprocess Functions\n",
    "### Normalize\n",
    "In the cell below, we have to implement the `normalize` function to take in image data, `x`, and return it as a normalized Numpy array. The values should be in the range of 0 to 1, inclusive.  The return object should be the same shape as `x`."
   ]
  },
  {
   "cell_type": "code",
   "execution_count": 21,
   "metadata": {},
   "outputs": [
    {
     "name": "stdout",
     "output_type": "stream",
     "text": [
      "Tests Passed\n"
     ]
    }
   ],
   "source": [
    "def normalize(x):\n",
    "    \"\"\"\n",
    "    Normalize a list of sample image data in the range of 0 to 1\n",
    "    : x: List of image data.  The image shape is (32, 32, 3)\n",
    "    : return: Numpy array of normalize data\n",
    "    \"\"\"\n",
    "    return x / 255\n",
    "\n",
    "\n",
    "tests.test_normalize(normalize)"
   ]
  },
  {
   "cell_type": "markdown",
   "metadata": {},
   "source": [
    "### One-hot encode\n",
    "Just like the previous code cell, let us implement a function for preprocessing namely `one_hot_encode`. This function will return the list of labels as One-Hot encoded Numpy array. The possible values for labels are 0 to 9. The one-hot encoding function should return the same encoding for each value between each call to `one_hot_encode`. We need to make sure to save the map of encodings outside the function."
   ]
  },
  {
   "cell_type": "code",
   "execution_count": 5,
   "metadata": {},
   "outputs": [
    {
     "name": "stdout",
     "output_type": "stream",
     "text": [
      "Tests Passed\n"
     ]
    }
   ],
   "source": [
    "def one_hot_encode(x):\n",
    "    \"\"\"\n",
    "    One hot encode a list of sample labels. Return a one-hot encoded vector for each label.\n",
    "    : x: List of sample Labels\n",
    "    : return: Numpy array of one-hot encoded labels\n",
    "    \"\"\"\n",
    "    lb = LabelBinarizer()\n",
    "    lb.fit(x)\n",
    "    lb.classes_ = list(range(0, 10))\n",
    "    return lb.transform(x)\n",
    "\n",
    "\n",
    "tests.test_one_hot_encode(one_hot_encode)"
   ]
  },
  {
   "cell_type": "markdown",
   "metadata": {},
   "source": [
    "### Randomize Data\n",
    "As we have seen from exploring the data above, the order of the samples are randomized. If needed we could randomize the dataset at this stage, but for this imageset it's already random."
   ]
  },
  {
   "cell_type": "markdown",
   "metadata": {},
   "source": [
    "## Preprocess all the data and save it\n",
    "Running the code cell below will preprocess all the CIFAR-10 data and save it to file."
   ]
  },
  {
   "cell_type": "code",
   "execution_count": 6,
   "metadata": {
    "collapsed": true
   },
   "outputs": [],
   "source": [
    "# Preprocess Training, Validation, and Testing Data\n",
    "helper.preprocess_and_save_data(cifar10_dataset_folder_path, normalize, one_hot_encode)"
   ]
  },
  {
   "cell_type": "markdown",
   "metadata": {},
   "source": [
    "# Check Point\n",
    "Next time we come back to this notebook or have to restart the notebook, we can start from here now that the preprocessed data has been saved to disk. Just make sure you imported all the packages by executing the first cell at the beginning."
   ]
  },
  {
   "cell_type": "code",
   "execution_count": 7,
   "metadata": {
    "collapsed": true
   },
   "outputs": [],
   "source": [
    "# Load the Preprocessed Validation data\n",
    "valid_features, valid_labels = pickle.load(open('preprocess_validation.p', mode='rb'))"
   ]
  },
  {
   "cell_type": "markdown",
   "metadata": {},
   "source": [
    "## Build the network\n",
    "For the neural network, we'll build each layer into a function. Most of the code we've seen has been outside of functions. To test the code more thoroughly, we require that we put each layer in a function. This allows us to clearly test for simple mistakes using the unittests included in this project.\n",
    "\n",
    "### Input\n",
    "The neural network needs to read the image data, one-hot encoded labels, and dropout keep probability. Let us implement the following functions\n",
    "* Implement `neural_net_image_input`\n",
    " * Return a [TF Placeholder](https://www.tensorflow.org/api_docs/python/tf/placeholder)\n",
    " * Set the shape using `image_shape` with batch size set to `None`.\n",
    " * Name the TensorFlow placeholder \"x\" using the TensorFlow `name` parameter in the [TF Placeholder](https://www.tensorflow.org/api_docs/python/tf/placeholder).\n",
    "* Implement `neural_net_label_input`\n",
    " * Return a [TF Placeholder](https://www.tensorflow.org/api_docs/python/tf/placeholder)\n",
    " * Set the shape using `n_classes` with batch size set to `None`.\n",
    " * Name the TensorFlow placeholder \"y\" using the TensorFlow `name` parameter in the [TF Placeholder](https://www.tensorflow.org/api_docs/python/tf/placeholder).\n",
    "* Implement `neural_net_keep_prob_input`\n",
    " * Return a [TF Placeholder](https://www.tensorflow.org/api_docs/python/tf/placeholder) for dropout keep probability.\n",
    " * Name the TensorFlow placeholder \"keep_prob\" using the TensorFlow `name` parameter in the [TF Placeholder](https://www.tensorflow.org/api_docs/python/tf/placeholder).\n",
    "\n",
    "These names will be used at the end of the project to load the saved model.\n",
    "\n",
    "Note: `None` for shapes in TensorFlow allow for a dynamic size."
   ]
  },
  {
   "cell_type": "code",
   "execution_count": 8,
   "metadata": {},
   "outputs": [
    {
     "name": "stdout",
     "output_type": "stream",
     "text": [
      "Image Input Tests Passed.\n",
      "Label Input Tests Passed.\n",
      "Keep Prob Tests Passed.\n"
     ]
    }
   ],
   "source": [
    "import tensorflow as tf\n",
    "\n",
    "def neural_net_image_input(image_shape):\n",
    "    \"\"\"\n",
    "    Return a Tensor for a bach of image input\n",
    "    : image_shape: Shape of the images\n",
    "    : return: Tensor for image input.\n",
    "    \"\"\"\n",
    "    return tf.placeholder(tf.float32, shape=[None, *image_shape], name=\"x\")\n",
    "\n",
    "\n",
    "def neural_net_label_input(n_classes):\n",
    "    \"\"\"\n",
    "    Return a Tensor for a batch of label input\n",
    "    : n_classes: Number of classes\n",
    "    : return: Tensor for label input.\n",
    "    \"\"\"\n",
    "    return tf.placeholder(tf.float32, shape=[None, n_classes], name=\"y\")\n",
    "\n",
    "\n",
    "def neural_net_keep_prob_input():\n",
    "    \"\"\"\n",
    "    Return a Tensor for keep probability\n",
    "    : return: Tensor for keep probability.\n",
    "    \"\"\"\n",
    "    return tf.placeholder(tf.float32, name=\"keep_prob\")\n",
    "\n",
    "\n",
    "tf.reset_default_graph()\n",
    "tests.test_nn_image_inputs(neural_net_image_input)\n",
    "tests.test_nn_label_inputs(neural_net_label_input)\n",
    "tests.test_nn_keep_prob_inputs(neural_net_keep_prob_input)"
   ]
  },
  {
   "cell_type": "markdown",
   "metadata": {},
   "source": [
    "### Convolution and Max Pooling Layer\n",
    "Convolution layers have a lot of success with images. For this code cell, you should implement the function `conv2d_maxpool` to apply convolution then max pooling:\n",
    "* Create the weight and bias using `conv_ksize`, `conv_num_outputs` and the shape of `x_tensor`.\n",
    "* Apply a convolution to `x_tensor` using weight and `conv_strides`.\n",
    " * Same padding can be used, but we're free to use any padding.\n",
    "* Add bias\n",
    "* Add a nonlinear activation to the convolution.\n",
    "* Apply Max Pooling using `pool_ksize` and `pool_strides`.\n",
    " * Same padding can be used, but we're free to use any padding.\n",
    "\n",
    "Note: Let us not use [TensorFlow Layers](https://www.tensorflow.org/api_docs/python/tf/layers) or [TensorFlow Layers (contrib)](https://www.tensorflow.org/api_guides/python/contrib.layers) for this layer just to keep just enough details."
   ]
  },
  {
   "cell_type": "code",
   "execution_count": 9,
   "metadata": {},
   "outputs": [
    {
     "name": "stdout",
     "output_type": "stream",
     "text": [
      "Tests Passed\n"
     ]
    }
   ],
   "source": [
    "def conv2d_maxpool(x_tensor, conv_num_outputs, conv_ksize, conv_strides, pool_ksize, pool_strides):\n",
    "    \"\"\"\n",
    "    Apply convolution then max pooling to x_tensor\n",
    "    :param x_tensor: TensorFlow Tensor\n",
    "    :param conv_num_outputs: Number of outputs for the convolutional layer\n",
    "    :param conv_strides: Stride 2-D Tuple for convolution\n",
    "    :param pool_ksize: kernal size 2-D Tuple for pool\n",
    "    :param pool_strides: Stride 2-D Tuple for pool\n",
    "    : return: A tensor that represents convolution and max pooling of x_tensor\n",
    "    \"\"\"\n",
    "    weights = tf.Variable(tf.truncated_normal([*conv_ksize, int(x_tensor.get_shape()[3]), conv_num_outputs], mean=0.0, stddev=0.05, dtype=tf.float32))\n",
    "    biases = tf.Variable(tf.constant(0, shape=[conv_num_outputs], dtype=tf.float32))\n",
    "    x = tf.nn.conv2d(x_tensor, weights, strides=[1, *conv_strides, 1], padding='SAME')\n",
    "    x = tf.nn.bias_add(x, biases)\n",
    "    x = tf.nn.relu(x)\n",
    "    x = tf.nn.max_pool(x, ksize=[1, *pool_ksize, 1], strides=[1, *pool_strides, 1], padding='SAME')\n",
    "    return x\n",
    "\n",
    "\n",
    "tests.test_con_pool(conv2d_maxpool)"
   ]
  },
  {
   "cell_type": "markdown",
   "metadata": {},
   "source": [
    "### Flatten Layer\n",
    "Let us implement the `flatten` function to change the dimension of `x_tensor` from a 4-D tensor to a 2-D tensor.  The output should be the shape (*Batch Size*, *Flattened Image Size*). Let us now use [TensorFlow Layers](https://www.tensorflow.org/api_docs/python/tf/layers) or [TensorFlow Layers (contrib)](https://www.tensorflow.org/api_guides/python/contrib.layers) for this layer."
   ]
  },
  {
   "cell_type": "code",
   "execution_count": 10,
   "metadata": {},
   "outputs": [
    {
     "name": "stdout",
     "output_type": "stream",
     "text": [
      "Tests Passed\n"
     ]
    }
   ],
   "source": [
    "def flatten(x_tensor):\n",
    "    \"\"\"\n",
    "    Flatten x_tensor to (Batch Size, Flattened Image Size)\n",
    "    : x_tensor: A tensor of size (Batch Size, ...), where ... are the image dimensions.\n",
    "    : return: A tensor of size (Batch Size, Flattened Image Size).\n",
    "    \"\"\"\n",
    "    return tf.contrib.layers.flatten(x_tensor)\n",
    "\n",
    "\n",
    "tests.test_flatten(flatten)"
   ]
  },
  {
   "cell_type": "markdown",
   "metadata": {},
   "source": [
    "### Fully-Connected Layer\n",
    "Let us implement the `fully_conn` function to apply a fully connected layer to `x_tensor` with the shape (*Batch Size*, *num_outputs*). You can use [TensorFlow Layers](https://www.tensorflow.org/api_docs/python/tf/layers) or [TensorFlow Layers (contrib)](https://www.tensorflow.org/api_guides/python/contrib.layers) for this layer."
   ]
  },
  {
   "cell_type": "code",
   "execution_count": 11,
   "metadata": {},
   "outputs": [
    {
     "name": "stdout",
     "output_type": "stream",
     "text": [
      "Tests Passed\n"
     ]
    }
   ],
   "source": [
    "def fully_conn(x_tensor, num_outputs):\n",
    "    \"\"\"\n",
    "    Apply a fully connected layer to x_tensor using weight and bias\n",
    "    : x_tensor: A 2-D tensor where the first dimension is batch size.\n",
    "    : num_outputs: The number of output that the new tensor should be.\n",
    "    : return: A 2-D tensor where the second dimension is num_outputs.\n",
    "    \"\"\"\n",
    "    return tf.contrib.layers.fully_connected(x_tensor, num_outputs, activation_fn=tf.nn.relu)\n",
    "\n",
    "\n",
    "tests.test_fully_conn(fully_conn)"
   ]
  },
  {
   "cell_type": "markdown",
   "metadata": {},
   "source": [
    "### Output Layer\n",
    "Let us implement the `output` function to apply a fully connected layer to `x_tensor` with the shape (*Batch Size*, *num_outputs*). Here we can use [TensorFlow Layers](https://www.tensorflow.org/api_docs/python/tf/layers) or [TensorFlow Layers (contrib)](https://www.tensorflow.org/api_guides/python/contrib.layers) for this layer.\n",
    "\n",
    "Note: Activation, softmax, or cross entropy shouldn't be applied to this."
   ]
  },
  {
   "cell_type": "code",
   "execution_count": 12,
   "metadata": {},
   "outputs": [
    {
     "name": "stdout",
     "output_type": "stream",
     "text": [
      "Tests Passed\n"
     ]
    }
   ],
   "source": [
    "def output(x_tensor, num_outputs):\n",
    "    \"\"\"\n",
    "    Apply a output layer to x_tensor using weight and bias\n",
    "    : x_tensor: A 2-D tensor where the first dimension is batch size.\n",
    "    : num_outputs: The number of output that the new tensor should be.\n",
    "    : return: A 2-D tensor where the second dimension is num_outputs.\n",
    "    \"\"\"\n",
    "    return tf.contrib.layers.fully_connected(x_tensor, num_outputs, activation_fn=None)\n",
    "\n",
    "\n",
    "tests.test_output(output)"
   ]
  },
  {
   "cell_type": "markdown",
   "metadata": {},
   "source": [
    "### Create Convolutional Model\n",
    "Let us implement the function `conv_net` to create a convolutional neural network model. The function takes in a batch of images, `x`, and outputs logits. We can use the layers you created above to create this model:\n",
    "\n",
    "* Apply 1, 2, or 3 Convolution and Max Pool layers\n",
    "* Apply a Flatten Layer\n",
    "* Apply 1, 2, or 3 Fully Connected Layers\n",
    "* Apply an Output Layer\n",
    "* Return the output\n",
    "* We can apply [TensorFlow's Dropout](https://www.tensorflow.org/api_docs/python/tf/nn/dropout) to one or more layers in the model using `keep_prob`. "
   ]
  },
  {
   "cell_type": "code",
   "execution_count": 13,
   "metadata": {},
   "outputs": [
    {
     "name": "stdout",
     "output_type": "stream",
     "text": [
      "Neural Network Built!\n"
     ]
    }
   ],
   "source": [
    "def conv_net(x, keep_prob):\n",
    "    \"\"\"\n",
    "    Create a convolutional neural network model\n",
    "    : x: Placeholder tensor that holds image data.\n",
    "    : keep_prob: Placeholder tensor that hold dropout keep probability.\n",
    "    : return: Tensor that represents logits\n",
    "    \"\"\"\n",
    "    \n",
    "    # Apply Convolution and Max Pool layers\n",
    "    conv_num_outputs = [8*3, 16*3, 32*3]\n",
    "    conv_ksize, conv_strides, pool_ksize, pool_strides, num_outputs = (3,3), (1,1), (2,2), (2,2), 512\n",
    "\n",
    "    conv = conv2d_maxpool(x, conv_num_outputs[0], conv_ksize, conv_strides, pool_ksize, pool_strides)\n",
    "    conv = conv2d_maxpool(conv, conv_num_outputs[1], conv_ksize, conv_strides, pool_ksize, pool_strides)\n",
    "    conv = conv2d_maxpool(conv, conv_num_outputs[2], conv_ksize, conv_strides, pool_ksize, pool_strides)\n",
    "    \n",
    "    # Apply a Flatten Layer\n",
    "    flattened = flatten(conv)\n",
    "    \n",
    "    # Apply Fully Connected Layers\n",
    "    fully = fully_conn(flattened, num_outputs)\n",
    "    fc_layer = tf.nn.dropout(fully, keep_prob)\n",
    "    fully = fully_conn(fc_layer, num_outputs)\n",
    "    fc_layer = tf.nn.dropout(fully, keep_prob)\n",
    "    \n",
    "    return output(fully, 10)\n",
    "\n",
    "\n",
    "##############################\n",
    "## Build the Neural Network ##\n",
    "##############################\n",
    "\n",
    "# Remove previous weights, bias, inputs, etc..\n",
    "tf.reset_default_graph()\n",
    "\n",
    "# Inputs\n",
    "x = neural_net_image_input((32, 32, 3))\n",
    "y = neural_net_label_input(10)\n",
    "keep_prob = neural_net_keep_prob_input()\n",
    "\n",
    "# Model\n",
    "logits = conv_net(x, keep_prob)\n",
    "\n",
    "# Name logits Tensor, so that is can be loaded from disk after training\n",
    "logits = tf.identity(logits, name='logits')\n",
    "\n",
    "# Loss and Optimizer\n",
    "cost = tf.reduce_mean(tf.nn.softmax_cross_entropy_with_logits(logits=logits, labels=y))\n",
    "optimizer = tf.train.AdamOptimizer().minimize(cost)\n",
    "\n",
    "# Accuracy\n",
    "correct_pred = tf.equal(tf.argmax(logits, 1), tf.argmax(y, 1))\n",
    "accuracy = tf.reduce_mean(tf.cast(correct_pred, tf.float32), name='accuracy')\n",
    "\n",
    "tests.test_conv_net(conv_net)"
   ]
  },
  {
   "cell_type": "markdown",
   "metadata": {},
   "source": [
    "## Train the Neural Network\n",
    "### Single Optimization\n",
    "Now we can implement the function `train_neural_network` to do a single optimization. The optimization uses `optimizer` to optimize in `session` with a `feed_dict` of the following:\n",
    "* `x` for image input\n",
    "* `y` for labels\n",
    "* `keep_prob` for keep probability for dropout\n",
    "\n",
    "This function will be called for each batch, so `tf.global_variables_initializer()` has already been called.\n",
    "\n",
    "Note: Nothing needs to be returned. This function is only optimizing the neural network."
   ]
  },
  {
   "cell_type": "code",
   "execution_count": 14,
   "metadata": {},
   "outputs": [
    {
     "name": "stdout",
     "output_type": "stream",
     "text": [
      "Tests Passed\n"
     ]
    }
   ],
   "source": [
    "def train_neural_network(session, optimizer, keep_probability, feature_batch, label_batch):\n",
    "    \"\"\"\n",
    "    Optimize the session on a batch of images and labels\n",
    "    : session: Current TensorFlow session\n",
    "    : optimizer: TensorFlow optimizer function\n",
    "    : keep_probability: keep probability\n",
    "    : feature_batch: Batch of Numpy image data\n",
    "    : label_batch: Batch of Numpy label data\n",
    "    \"\"\"\n",
    "    session.run(optimizer, feed_dict={x: feature_batch, y: label_batch, keep_prob: keep_probability})\n",
    "    \n",
    "    pass\n",
    "\n",
    "\n",
    "tests.test_train_nn(train_neural_network)"
   ]
  },
  {
   "cell_type": "markdown",
   "metadata": {},
   "source": [
    "### Show Stats\n",
    "Let us implement the function `print_stats` to print loss and validation accuracy. We can use the global variables `valid_features` and `valid_labels` to calculate validation accuracy. Let us also use a keep probability of `1.0` to calculate the loss and validation accuracy."
   ]
  },
  {
   "cell_type": "code",
   "execution_count": 15,
   "metadata": {
    "collapsed": true
   },
   "outputs": [],
   "source": [
    "def print_stats(session, feature_batch, label_batch, cost, accuracy):\n",
    "    \"\"\"\n",
    "    Print information about loss and validation accuracy\n",
    "    : session: Current TensorFlow session\n",
    "    : feature_batch: Batch of Numpy image data\n",
    "    : label_batch: Batch of Numpy label data\n",
    "    : cost: TensorFlow cost function\n",
    "    : accuracy: TensorFlow accuracy function\n",
    "    \"\"\"\n",
    "    loss = session.run(cost, feed_dict={x: feature_batch, y: label_batch, keep_prob: 1.0})\n",
    "    validation_accuracy = session.run(accuracy, feed_dict={x: valid_features, y: valid_labels, keep_prob: 1.0})\n",
    "    print('Loss: {:>10.4f}, Accuracy: {:.4f}'.format(loss, validation_accuracy))\n",
    "    \n",
    "    pass"
   ]
  },
  {
   "cell_type": "markdown",
   "metadata": {},
   "source": [
    "### Hyperparameters\n",
    "The following parameters need to be tuned:\n",
    "* Set `epochs` to the number of iterations until the network stops learning or start overfitting\n",
    "* Set `batch_size` to the highest number that your machine has memory for. In most cases, they are set to common sizes of memory:\n",
    " * 64\n",
    " * 128\n",
    " * 256\n",
    " * ...\n",
    "* Set `keep_probability` to the probability of keeping a node using dropout"
   ]
  },
  {
   "cell_type": "code",
   "execution_count": 16,
   "metadata": {
    "collapsed": true
   },
   "outputs": [],
   "source": [
    "epochs = 20\n",
    "batch_size = 512\n",
    "keep_probability = 0.5"
   ]
  },
  {
   "cell_type": "markdown",
   "metadata": {},
   "source": [
    "### Train on a Single CIFAR-10 Batch\n",
    "Instead of training the neural network on all the CIFAR-10 batches of data, let's use a single batch. This should save time while we iterate on the model to get a better accuracy. Once the final validation accuracy is 50% or greater, we can run the model on all the data in the next section."
   ]
  },
  {
   "cell_type": "code",
   "execution_count": 17,
   "metadata": {},
   "outputs": [
    {
     "name": "stdout",
     "output_type": "stream",
     "text": [
      "Checking the Training on a Single Batch...\n",
      "Epoch  1, CIFAR-10 Batch 1:  Loss:     2.0547, Accuracy: 0.2864\n",
      "Epoch  2, CIFAR-10 Batch 1:  Loss:     1.8515, Accuracy: 0.3674\n",
      "Epoch  3, CIFAR-10 Batch 1:  Loss:     1.7292, Accuracy: 0.4026\n",
      "Epoch  4, CIFAR-10 Batch 1:  Loss:     1.6117, Accuracy: 0.4262\n",
      "Epoch  5, CIFAR-10 Batch 1:  Loss:     1.6143, Accuracy: 0.4188\n",
      "Epoch  6, CIFAR-10 Batch 1:  Loss:     1.5106, Accuracy: 0.4368\n",
      "Epoch  7, CIFAR-10 Batch 1:  Loss:     1.4163, Accuracy: 0.4858\n",
      "Epoch  8, CIFAR-10 Batch 1:  Loss:     1.3395, Accuracy: 0.5002\n",
      "Epoch  9, CIFAR-10 Batch 1:  Loss:     1.2774, Accuracy: 0.5200\n",
      "Epoch 10, CIFAR-10 Batch 1:  Loss:     1.2250, Accuracy: 0.5304\n",
      "Epoch 11, CIFAR-10 Batch 1:  Loss:     1.1439, Accuracy: 0.5256\n",
      "Epoch 12, CIFAR-10 Batch 1:  Loss:     1.0572, Accuracy: 0.5578\n",
      "Epoch 13, CIFAR-10 Batch 1:  Loss:     1.0046, Accuracy: 0.5616\n",
      "Epoch 14, CIFAR-10 Batch 1:  Loss:     0.9356, Accuracy: 0.5768\n",
      "Epoch 15, CIFAR-10 Batch 1:  Loss:     0.8826, Accuracy: 0.5792\n",
      "Epoch 16, CIFAR-10 Batch 1:  Loss:     0.8145, Accuracy: 0.5854\n",
      "Epoch 17, CIFAR-10 Batch 1:  Loss:     0.7744, Accuracy: 0.5832\n",
      "Epoch 18, CIFAR-10 Batch 1:  Loss:     0.6941, Accuracy: 0.5930\n",
      "Epoch 19, CIFAR-10 Batch 1:  Loss:     0.6431, Accuracy: 0.5882\n",
      "Epoch 20, CIFAR-10 Batch 1:  Loss:     0.6239, Accuracy: 0.5792\n"
     ]
    }
   ],
   "source": [
    "print('Checking the Training on a Single Batch...')\n",
    "with tf.Session() as sess:\n",
    "    # Initializing the variables\n",
    "    sess.run(tf.global_variables_initializer())\n",
    "    \n",
    "    # Training cycle\n",
    "    for epoch in range(epochs):\n",
    "        batch_i = 1\n",
    "        for batch_features, batch_labels in helper.load_preprocess_training_batch(batch_i, batch_size):\n",
    "            train_neural_network(sess, optimizer, keep_probability, batch_features, batch_labels)\n",
    "        print('Epoch {:>2}, CIFAR-10 Batch {}:  '.format(epoch + 1, batch_i), end='')\n",
    "        print_stats(sess, batch_features, batch_labels, cost, accuracy)"
   ]
  },
  {
   "cell_type": "markdown",
   "metadata": {},
   "source": [
    "### Fully Train the Model\n",
    "Now that we got a decent accuracy with a single CIFAR-10 batch, let us try it with all five batches."
   ]
  },
  {
   "cell_type": "code",
   "execution_count": 18,
   "metadata": {},
   "outputs": [
    {
     "name": "stdout",
     "output_type": "stream",
     "text": [
      "Training...\n",
      "Epoch  1, CIFAR-10 Batch 1:  Loss:     1.9996, Accuracy: 0.2956\n",
      "Epoch  1, CIFAR-10 Batch 2:  Loss:     1.7345, Accuracy: 0.3496\n",
      "Epoch  1, CIFAR-10 Batch 3:  Loss:     1.5510, Accuracy: 0.3740\n",
      "Epoch  1, CIFAR-10 Batch 4:  Loss:     1.5498, Accuracy: 0.4014\n",
      "Epoch  1, CIFAR-10 Batch 5:  Loss:     1.5230, Accuracy: 0.4434\n",
      "Epoch  2, CIFAR-10 Batch 1:  Loss:     1.5923, Accuracy: 0.4646\n",
      "Epoch  2, CIFAR-10 Batch 2:  Loss:     1.3865, Accuracy: 0.4736\n",
      "Epoch  2, CIFAR-10 Batch 3:  Loss:     1.2995, Accuracy: 0.4538\n",
      "Epoch  2, CIFAR-10 Batch 4:  Loss:     1.2532, Accuracy: 0.5090\n",
      "Epoch  2, CIFAR-10 Batch 5:  Loss:     1.2698, Accuracy: 0.5192\n",
      "Epoch  3, CIFAR-10 Batch 1:  Loss:     1.3894, Accuracy: 0.5212\n",
      "Epoch  3, CIFAR-10 Batch 2:  Loss:     1.2425, Accuracy: 0.5166\n",
      "Epoch  3, CIFAR-10 Batch 3:  Loss:     1.1189, Accuracy: 0.5384\n",
      "Epoch  3, CIFAR-10 Batch 4:  Loss:     1.0980, Accuracy: 0.5448\n",
      "Epoch  3, CIFAR-10 Batch 5:  Loss:     1.1311, Accuracy: 0.5552\n",
      "Epoch  4, CIFAR-10 Batch 1:  Loss:     1.2312, Accuracy: 0.5610\n",
      "Epoch  4, CIFAR-10 Batch 2:  Loss:     1.1047, Accuracy: 0.5628\n",
      "Epoch  4, CIFAR-10 Batch 3:  Loss:     1.0131, Accuracy: 0.5730\n",
      "Epoch  4, CIFAR-10 Batch 4:  Loss:     0.9569, Accuracy: 0.5864\n",
      "Epoch  4, CIFAR-10 Batch 5:  Loss:     1.0005, Accuracy: 0.5948\n",
      "Epoch  5, CIFAR-10 Batch 1:  Loss:     1.0720, Accuracy: 0.6030\n",
      "Epoch  5, CIFAR-10 Batch 2:  Loss:     0.9848, Accuracy: 0.5912\n",
      "Epoch  5, CIFAR-10 Batch 3:  Loss:     0.9120, Accuracy: 0.6042\n",
      "Epoch  5, CIFAR-10 Batch 4:  Loss:     0.8271, Accuracy: 0.6242\n",
      "Epoch  5, CIFAR-10 Batch 5:  Loss:     0.8791, Accuracy: 0.6284\n",
      "Epoch  6, CIFAR-10 Batch 1:  Loss:     0.9674, Accuracy: 0.6340\n",
      "Epoch  6, CIFAR-10 Batch 2:  Loss:     0.9069, Accuracy: 0.6174\n",
      "Epoch  6, CIFAR-10 Batch 3:  Loss:     0.8395, Accuracy: 0.6342\n",
      "Epoch  6, CIFAR-10 Batch 4:  Loss:     0.7603, Accuracy: 0.6450\n",
      "Epoch  6, CIFAR-10 Batch 5:  Loss:     0.7841, Accuracy: 0.6462\n",
      "Epoch  7, CIFAR-10 Batch 1:  Loss:     0.9322, Accuracy: 0.6338\n",
      "Epoch  7, CIFAR-10 Batch 2:  Loss:     0.8387, Accuracy: 0.6424\n",
      "Epoch  7, CIFAR-10 Batch 3:  Loss:     0.7567, Accuracy: 0.6474\n",
      "Epoch  7, CIFAR-10 Batch 4:  Loss:     0.6955, Accuracy: 0.6614\n",
      "Epoch  7, CIFAR-10 Batch 5:  Loss:     0.7151, Accuracy: 0.6530\n",
      "Epoch  8, CIFAR-10 Batch 1:  Loss:     0.8295, Accuracy: 0.6622\n",
      "Epoch  8, CIFAR-10 Batch 2:  Loss:     0.7309, Accuracy: 0.6562\n",
      "Epoch  8, CIFAR-10 Batch 3:  Loss:     0.6717, Accuracy: 0.6640\n",
      "Epoch  8, CIFAR-10 Batch 4:  Loss:     0.6387, Accuracy: 0.6778\n",
      "Epoch  8, CIFAR-10 Batch 5:  Loss:     0.6329, Accuracy: 0.6674\n",
      "Epoch  9, CIFAR-10 Batch 1:  Loss:     0.7740, Accuracy: 0.6808\n",
      "Epoch  9, CIFAR-10 Batch 2:  Loss:     0.6680, Accuracy: 0.6702\n",
      "Epoch  9, CIFAR-10 Batch 3:  Loss:     0.6115, Accuracy: 0.6812\n",
      "Epoch  9, CIFAR-10 Batch 4:  Loss:     0.5849, Accuracy: 0.6922\n",
      "Epoch  9, CIFAR-10 Batch 5:  Loss:     0.5813, Accuracy: 0.6812\n",
      "Epoch 10, CIFAR-10 Batch 1:  Loss:     0.6850, Accuracy: 0.6916\n",
      "Epoch 10, CIFAR-10 Batch 2:  Loss:     0.5989, Accuracy: 0.6860\n",
      "Epoch 10, CIFAR-10 Batch 3:  Loss:     0.5549, Accuracy: 0.6946\n",
      "Epoch 10, CIFAR-10 Batch 4:  Loss:     0.5155, Accuracy: 0.7024\n",
      "Epoch 10, CIFAR-10 Batch 5:  Loss:     0.5276, Accuracy: 0.6938\n",
      "Epoch 11, CIFAR-10 Batch 1:  Loss:     0.6518, Accuracy: 0.6984\n",
      "Epoch 11, CIFAR-10 Batch 2:  Loss:     0.5879, Accuracy: 0.6818\n",
      "Epoch 11, CIFAR-10 Batch 3:  Loss:     0.5249, Accuracy: 0.6900\n",
      "Epoch 11, CIFAR-10 Batch 4:  Loss:     0.5267, Accuracy: 0.7060\n",
      "Epoch 11, CIFAR-10 Batch 5:  Loss:     0.4864, Accuracy: 0.6982\n",
      "Epoch 12, CIFAR-10 Batch 1:  Loss:     0.5742, Accuracy: 0.7046\n",
      "Epoch 12, CIFAR-10 Batch 2:  Loss:     0.5163, Accuracy: 0.7078\n",
      "Epoch 12, CIFAR-10 Batch 3:  Loss:     0.4588, Accuracy: 0.7078\n",
      "Epoch 12, CIFAR-10 Batch 4:  Loss:     0.4536, Accuracy: 0.7198\n",
      "Epoch 12, CIFAR-10 Batch 5:  Loss:     0.4222, Accuracy: 0.7100\n",
      "Epoch 13, CIFAR-10 Batch 1:  Loss:     0.5561, Accuracy: 0.6920\n",
      "Epoch 13, CIFAR-10 Batch 2:  Loss:     0.5225, Accuracy: 0.7052\n",
      "Epoch 13, CIFAR-10 Batch 3:  Loss:     0.4213, Accuracy: 0.7070\n",
      "Epoch 13, CIFAR-10 Batch 4:  Loss:     0.4211, Accuracy: 0.7136\n",
      "Epoch 13, CIFAR-10 Batch 5:  Loss:     0.4241, Accuracy: 0.7000\n",
      "Epoch 14, CIFAR-10 Batch 1:  Loss:     0.4562, Accuracy: 0.7202\n",
      "Epoch 14, CIFAR-10 Batch 2:  Loss:     0.4683, Accuracy: 0.6940\n",
      "Epoch 14, CIFAR-10 Batch 3:  Loss:     0.3657, Accuracy: 0.7116\n",
      "Epoch 14, CIFAR-10 Batch 4:  Loss:     0.3837, Accuracy: 0.7204\n",
      "Epoch 14, CIFAR-10 Batch 5:  Loss:     0.3647, Accuracy: 0.7016\n",
      "Epoch 15, CIFAR-10 Batch 1:  Loss:     0.4320, Accuracy: 0.7176\n",
      "Epoch 15, CIFAR-10 Batch 2:  Loss:     0.4149, Accuracy: 0.7212\n",
      "Epoch 15, CIFAR-10 Batch 3:  Loss:     0.3736, Accuracy: 0.7144\n",
      "Epoch 15, CIFAR-10 Batch 4:  Loss:     0.3318, Accuracy: 0.7146\n",
      "Epoch 15, CIFAR-10 Batch 5:  Loss:     0.3366, Accuracy: 0.6986\n",
      "Epoch 16, CIFAR-10 Batch 1:  Loss:     0.3868, Accuracy: 0.7204\n",
      "Epoch 16, CIFAR-10 Batch 2:  Loss:     0.3335, Accuracy: 0.7232\n",
      "Epoch 16, CIFAR-10 Batch 3:  Loss:     0.3457, Accuracy: 0.7190\n",
      "Epoch 16, CIFAR-10 Batch 4:  Loss:     0.2990, Accuracy: 0.7262\n",
      "Epoch 16, CIFAR-10 Batch 5:  Loss:     0.3206, Accuracy: 0.7124\n",
      "Epoch 17, CIFAR-10 Batch 1:  Loss:     0.3672, Accuracy: 0.7188\n",
      "Epoch 17, CIFAR-10 Batch 2:  Loss:     0.3135, Accuracy: 0.7228\n",
      "Epoch 17, CIFAR-10 Batch 3:  Loss:     0.2976, Accuracy: 0.7246\n",
      "Epoch 17, CIFAR-10 Batch 4:  Loss:     0.2673, Accuracy: 0.7296\n",
      "Epoch 17, CIFAR-10 Batch 5:  Loss:     0.2825, Accuracy: 0.7058\n",
      "Epoch 18, CIFAR-10 Batch 1:  Loss:     0.3266, Accuracy: 0.7230\n",
      "Epoch 18, CIFAR-10 Batch 2:  Loss:     0.2957, Accuracy: 0.7142\n",
      "Epoch 18, CIFAR-10 Batch 3:  Loss:     0.2730, Accuracy: 0.7276\n",
      "Epoch 18, CIFAR-10 Batch 4:  Loss:     0.2637, Accuracy: 0.7202\n",
      "Epoch 18, CIFAR-10 Batch 5:  Loss:     0.2283, Accuracy: 0.7152\n",
      "Epoch 19, CIFAR-10 Batch 1:  Loss:     0.3204, Accuracy: 0.7158\n",
      "Epoch 19, CIFAR-10 Batch 2:  Loss:     0.2480, Accuracy: 0.7188\n",
      "Epoch 19, CIFAR-10 Batch 3:  Loss:     0.2454, Accuracy: 0.7200\n",
      "Epoch 19, CIFAR-10 Batch 4:  Loss:     0.2466, Accuracy: 0.7058\n",
      "Epoch 19, CIFAR-10 Batch 5:  Loss:     0.2240, Accuracy: 0.7154\n",
      "Epoch 20, CIFAR-10 Batch 1:  Loss:     0.2816, Accuracy: 0.7230\n",
      "Epoch 20, CIFAR-10 Batch 2:  Loss:     0.2280, Accuracy: 0.7234\n",
      "Epoch 20, CIFAR-10 Batch 3:  Loss:     0.2391, Accuracy: 0.7176\n",
      "Epoch 20, CIFAR-10 Batch 4:  Loss:     0.2157, Accuracy: 0.7090\n",
      "Epoch 20, CIFAR-10 Batch 5:  Loss:     0.2445, Accuracy: 0.7046\n"
     ]
    }
   ],
   "source": [
    "save_model_path = './image_classification'\n",
    "\n",
    "print('Training...')\n",
    "with tf.Session() as sess:\n",
    "    # Initializing the variables\n",
    "    sess.run(tf.global_variables_initializer())\n",
    "    \n",
    "    # Training cycle\n",
    "    for epoch in range(epochs):\n",
    "        # Loop over all batches\n",
    "        n_batches = 5\n",
    "        for batch_i in range(1, n_batches + 1):\n",
    "            for batch_features, batch_labels in helper.load_preprocess_training_batch(batch_i, batch_size):\n",
    "                train_neural_network(sess, optimizer, keep_probability, batch_features, batch_labels)\n",
    "            print('Epoch {:>2}, CIFAR-10 Batch {}:  '.format(epoch + 1, batch_i), end='')\n",
    "            print_stats(sess, batch_features, batch_labels, cost, accuracy)\n",
    "            \n",
    "    # Save Model\n",
    "    saver = tf.train.Saver()\n",
    "    save_path = saver.save(sess, save_model_path)"
   ]
  },
  {
   "cell_type": "markdown",
   "metadata": {},
   "source": [
    "# Checkpoint\n",
    "The model has been saved to disk.\n",
    "\n",
    "## Test Model\n",
    "Let us test your model against the test dataset. This will be our final accuracy for this project. Should we have an accuracy less than 50%, we need to keep tweaking the model architecture and parameters."
   ]
  },
  {
   "cell_type": "code",
   "execution_count": 22,
   "metadata": {},
   "outputs": [
    {
     "name": "stdout",
     "output_type": "stream",
     "text": [
      "INFO:tensorflow:Restoring parameters from ./image_classification\n",
      "Testing Accuracy: 0.7016888797283173\n",
      "\n"
     ]
    },
    {
     "data": {
      "image/png": "[encoded data removed]",
      "text/plain": [
       "<matplotlib.figure.Figure at 0x117be3470>"
      ]
     },
     "metadata": {
      "image/png": {
       "height": 319,
       "width": 355
      }
     },
     "output_type": "display_data"
    }
   ],
   "source": [
    "# Set batch size if not already set\n",
    "try:\n",
    "    if batch_size:\n",
    "        pass\n",
    "except NameError:\n",
    "    batch_size = 64\n",
    "\n",
    "save_model_path = './image_classification'\n",
    "n_samples = 4\n",
    "top_n_predictions = 3\n",
    "\n",
    "def test_model():\n",
    "    \"\"\"\n",
    "    Test the saved model against the test dataset\n",
    "    \"\"\"\n",
    "\n",
    "    test_features, test_labels = pickle.load(open('preprocess_training.p', mode='rb'))\n",
    "    loaded_graph = tf.Graph()\n",
    "\n",
    "    with tf.Session(graph=loaded_graph) as sess:\n",
    "        # Load model\n",
    "        loader = tf.train.import_meta_graph(save_model_path + '.meta')\n",
    "        loader.restore(sess, save_model_path)\n",
    "\n",
    "        # Get Tensors from loaded model\n",
    "        loaded_x = loaded_graph.get_tensor_by_name('x:0')\n",
    "        loaded_y = loaded_graph.get_tensor_by_name('y:0')\n",
    "        loaded_keep_prob = loaded_graph.get_tensor_by_name('keep_prob:0')\n",
    "        loaded_logits = loaded_graph.get_tensor_by_name('logits:0')\n",
    "        loaded_acc = loaded_graph.get_tensor_by_name('accuracy:0')\n",
    "        \n",
    "        # Get accuracy in batches for memory limitations\n",
    "        test_batch_acc_total = 0\n",
    "        test_batch_count = 0\n",
    "        \n",
    "        for train_feature_batch, train_label_batch in helper.batch_features_labels(test_features, test_labels, batch_size):\n",
    "            test_batch_acc_total += sess.run(\n",
    "                loaded_acc,\n",
    "                feed_dict={loaded_x: train_feature_batch, loaded_y: train_label_batch, loaded_keep_prob: 1.0})\n",
    "            test_batch_count += 1\n",
    "\n",
    "        print('Testing Accuracy: {}\\n'.format(test_batch_acc_total/test_batch_count))\n",
    "\n",
    "        # Print Random Samples\n",
    "        random_test_features, random_test_labels = tuple(zip(*random.sample(list(zip(test_features, test_labels)), n_samples)))\n",
    "        random_test_predictions = sess.run(\n",
    "            tf.nn.top_k(tf.nn.softmax(loaded_logits), top_n_predictions),\n",
    "            feed_dict={loaded_x: random_test_features, loaded_y: random_test_labels, loaded_keep_prob: 1.0})\n",
    "        helper.display_image_predictions(random_test_features, random_test_labels, random_test_predictions)\n",
    "\n",
    "\n",
    "test_model()"
   ]
  },
  {
   "cell_type": "markdown",
   "metadata": {},
   "source": [
    "## Why ~70% Accuracy?\n",
    "Some say 50% isn't bad for a simple CNN. Pure guessing would get us 10% accuracy for 10 classes. "
   ]
  }
 ],
 "metadata": {
  "kernelspec": {
   "display_name": "Python 3",
   "language": "python",
   "name": "python3"
  },
  "language_info": {
   "codemirror_mode": {
    "name": "ipython",
    "version": 3
   },
   "file_extension": ".py",
   "mimetype": "text/x-python",
   "name": "python",
   "nbconvert_exporter": "python",
   "pygments_lexer": "ipython3",
   "version": "3.6.1"
  },
  "widgets": {
   "state": {},
   "version": "1.1.2"
  }
 },
 "nbformat": 4,
 "nbformat_minor": 1
}
